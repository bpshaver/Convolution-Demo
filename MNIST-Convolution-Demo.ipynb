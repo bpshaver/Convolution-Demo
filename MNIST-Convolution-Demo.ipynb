{
 "cells": [
  {
   "cell_type": "markdown",
   "metadata": {},
   "source": [
    "# Convolutions Visualized"
   ]
  },
  {
   "cell_type": "code",
   "execution_count": 1,
   "metadata": {
    "ExecuteTime": {
     "end_time": "2018-06-08T19:57:01.015268Z",
     "start_time": "2018-06-08T19:57:00.764265Z"
    }
   },
   "outputs": [],
   "source": [
    "import numpy as np\n",
    "np.random.seed(42)"
   ]
  },
  {
   "cell_type": "code",
   "execution_count": 2,
   "metadata": {
    "ExecuteTime": {
     "end_time": "2018-06-08T19:57:02.232884Z",
     "start_time": "2018-06-08T19:57:01.750595Z"
    }
   },
   "outputs": [],
   "source": [
    "import matplotlib.pyplot as plt\n",
    "%matplotlib inline\n",
    "if 'presentation' in plt.style.available:\n",
    "    plt.style.use('presentation')"
   ]
  },
  {
   "cell_type": "code",
   "execution_count": 3,
   "metadata": {
    "ExecuteTime": {
     "end_time": "2018-06-08T19:57:07.033424Z",
     "start_time": "2018-06-08T19:57:03.240729Z"
    }
   },
   "outputs": [
    {
     "name": "stderr",
     "output_type": "stream",
     "text": [
      "Using TensorFlow backend.\n"
     ]
    }
   ],
   "source": [
    "from keras.datasets import mnist"
   ]
  },
  {
   "cell_type": "code",
   "execution_count": 4,
   "metadata": {
    "ExecuteTime": {
     "end_time": "2018-06-08T19:57:08.868857Z",
     "start_time": "2018-06-08T19:57:08.293214Z"
    }
   },
   "outputs": [],
   "source": [
    "# Get the data. We don't care about the test data this time\n",
    "(train_images, train_labels), _ = mnist.load_data()"
   ]
  },
  {
   "cell_type": "code",
   "execution_count": 5,
   "metadata": {
    "ExecuteTime": {
     "end_time": "2018-06-08T19:57:10.402542Z",
     "start_time": "2018-06-08T19:57:09.810964Z"
    }
   },
   "outputs": [],
   "source": [
    "# Put data on [0, 1] scale\n",
    "train_images = train_images.astype(float) / 255"
   ]
  },
  {
   "cell_type": "code",
   "execution_count": 6,
   "metadata": {
    "ExecuteTime": {
     "end_time": "2018-06-08T19:57:11.233710Z",
     "start_time": "2018-06-08T19:57:11.225292Z"
    }
   },
   "outputs": [],
   "source": [
    "# Take a sample to use\n",
    "sample = train_images[0]"
   ]
  },
  {
   "cell_type": "code",
   "execution_count": 7,
   "metadata": {
    "ExecuteTime": {
     "end_time": "2018-06-08T19:57:12.847896Z",
     "start_time": "2018-06-08T19:57:12.839553Z"
    }
   },
   "outputs": [
    {
     "data": {
      "text/plain": [
       "array([[0., 0., 0.],\n",
       "       [0., 0., 0.],\n",
       "       [0., 0., 0.]])"
      ]
     },
     "execution_count": 7,
     "metadata": {},
     "output_type": "execute_result"
    }
   ],
   "source": [
    "# Let's say you want to find the first 3x3 square in the image:\n",
    "sample[0:3, 0:3]"
   ]
  },
  {
   "cell_type": "code",
   "execution_count": 8,
   "metadata": {
    "ExecuteTime": {
     "end_time": "2018-06-08T19:57:14.017556Z",
     "start_time": "2018-06-08T19:57:14.006620Z"
    }
   },
   "outputs": [
    {
     "name": "stdout",
     "output_type": "stream",
     "text": [
      "[[0. 0. 0.]\n",
      " [0. 0. 0.]\n",
      " [0. 0. 0.]]\n"
     ]
    }
   ],
   "source": [
    "# What is the center of this image? Clearly, it is (1,1). Therefore, we can \n",
    "# access this square as:\n",
    "center = (1,1)\n",
    "\n",
    "square = sample[center[0]-1:center[0]+2, center[1]-1:center[1]+2]\n",
    "print(square)"
   ]
  },
  {
   "cell_type": "code",
   "execution_count": 9,
   "metadata": {
    "ExecuteTime": {
     "end_time": "2018-06-08T19:57:14.932963Z",
     "start_time": "2018-06-08T19:57:14.921616Z"
    }
   },
   "outputs": [
    {
     "name": "stdout",
     "output_type": "stream",
     "text": [
      "[[-1 -1 -1]\n",
      " [-1  8 -1]\n",
      " [-1 -1 -1]]\n"
     ]
    }
   ],
   "source": [
    "# Now, let's define a nice edge detection filter:\n",
    "\n",
    "filt = np.array([[-1,-1,-1],[-1,8,-1],[-1,-1,-1]])\n",
    "print(filt)"
   ]
  },
  {
   "cell_type": "code",
   "execution_count": 10,
   "metadata": {
    "ExecuteTime": {
     "end_time": "2018-06-08T19:57:15.751873Z",
     "start_time": "2018-06-08T19:57:15.742343Z"
    }
   },
   "outputs": [
    {
     "data": {
      "text/plain": [
       "0.0"
      ]
     },
     "execution_count": 10,
     "metadata": {},
     "output_type": "execute_result"
    }
   ],
   "source": [
    "# Recall that the convolutio operation just doing element-wise multiplication\n",
    "# and summing them all up:\n",
    "np.sum(square * filt)"
   ]
  },
  {
   "cell_type": "code",
   "execution_count": null,
   "metadata": {
    "ExecuteTime": {
     "end_time": "2018-06-08T19:57:16.584646Z",
     "start_time": "2018-06-08T19:57:16.469Z"
    }
   },
   "outputs": [],
   "source": [
    "# We can also compute this as the dot product (matrix multiplication) of the two\n",
    "# matrices, if we flattened them into a vector of length 9:\n",
    "np.dot(square.reshape(9), filt.reshape(9))\n",
    "\n",
    "# (.ravel does this too, but reshape makes it obvious what we're doing)"
   ]
  },
  {
   "cell_type": "code",
   "execution_count": 11,
   "metadata": {
    "ExecuteTime": {
     "end_time": "2018-06-08T19:57:18.398304Z",
     "start_time": "2018-06-08T19:57:18.384550Z"
    }
   },
   "outputs": [
    {
     "data": {
      "text/plain": [
       "1.3137254901960782"
      ]
     },
     "execution_count": 11,
     "metadata": {},
     "output_type": "execute_result"
    }
   ],
   "source": [
    "# Let's keep it simple, and write a function that applies a filter to a section\n",
    "# of an image given by a certain \"center point\":\n",
    "\n",
    "def apply_filter(image, filt, center):\n",
    "    image_section = image[center[0]-1:center[0]+2, center[1]-1:center[1]+2]\n",
    "    return np.sum(image_section * filt)\n",
    "\n",
    "apply_filter(sample, filt, (15, 15))"
   ]
  },
  {
   "cell_type": "code",
   "execution_count": 12,
   "metadata": {
    "ExecuteTime": {
     "end_time": "2018-06-08T19:57:19.475192Z",
     "start_time": "2018-06-08T19:57:19.460974Z"
    }
   },
   "outputs": [],
   "source": [
    "# Now, the matrix of \"center\" points for a 28 x 28 image like an MNIST digit is\n",
    "# 26 x 26, since edges can't be \"center\" points. We'll use no padding this time,\n",
    "# which means our convolved image will be 26 x 26 as well. We'll also use a \n",
    "# stride of 1, meaning we slide the filter 1 pixel at a time.\n",
    "\n",
    "# Initialize an empty matrix:\n",
    "\n",
    "convolved = np.zeros((26, 26))\n",
    "\n",
    "# For every row of pixels 1 through 27 in the original image:\n",
    "for row_pixel in range(1,27):\n",
    "    # and for every column of pixels 1 through 27 in the original image:\n",
    "        for col_pixel in range(1,27):\n",
    "            # Calculate the corresponding value in the convolved image\n",
    "            # using the function we just wrote:\n",
    "            convolved[row_pixel - 1, col_pixel -1] = apply_filter(sample, filt,\n",
    "                                                    (row_pixel,  col_pixel))"
   ]
  },
  {
   "cell_type": "code",
   "execution_count": 13,
   "metadata": {
    "ExecuteTime": {
     "end_time": "2018-06-08T19:57:20.659979Z",
     "start_time": "2018-06-08T19:57:20.393595Z"
    }
   },
   "outputs": [
    {
     "data": {
      "image/png": "[encoded data removed]",
      "text/plain": [
       "<matplotlib.figure.Figure at 0x12d9fd14cc0>"
      ]
     },
     "metadata": {},
     "output_type": "display_data"
    }
   ],
   "source": [
    "# Print the image using the 'imshow' plotting command with the usual settings\n",
    "plt.imshow(X=convolved, cmap=plt.cm.gray_r, interpolation = \"nearest\");"
   ]
  },
  {
   "cell_type": "code",
   "execution_count": 14,
   "metadata": {
    "ExecuteTime": {
     "end_time": "2018-06-08T19:57:21.576333Z",
     "start_time": "2018-06-08T19:57:21.571681Z"
    }
   },
   "outputs": [],
   "source": [
    "# That is the heart of it. At this point I ask my students: What are we missing?\n",
    "# Answer: We're missing an activation function and a bias."
   ]
  },
  {
   "cell_type": "code",
   "execution_count": 16,
   "metadata": {
    "ExecuteTime": {
     "end_time": "2018-06-08T19:57:29.069849Z",
     "start_time": "2018-06-08T19:57:29.063067Z"
    }
   },
   "outputs": [],
   "source": [
    "# Define an activation function. We'll use the ReLU since it is simple, widely \n",
    "# used, and intuitive. In this MNIST case, it will zero out many pixels so that\n",
    "# they're completely white.\n",
    "\n",
    "def ReLU(Z):\n",
    "    return max(0, Z)"
   ]
  },
  {
   "cell_type": "code",
   "execution_count": 17,
   "metadata": {
    "ExecuteTime": {
     "end_time": "2018-06-08T19:57:30.232472Z",
     "start_time": "2018-06-08T19:57:30.224347Z"
    }
   },
   "outputs": [],
   "source": [
    "# This activation function will be applied to the resulting scalar (single \n",
    "# number) of the convolution operation, with a bias. Let's re-write our function\n",
    "# to incorporate an activation function and a bias:"
   ]
  },
  {
   "cell_type": "code",
   "execution_count": 18,
   "metadata": {
    "ExecuteTime": {
     "end_time": "2018-06-08T19:57:31.139630Z",
     "start_time": "2018-06-08T19:57:31.118442Z"
    }
   },
   "outputs": [
    {
     "data": {
      "text/plain": [
       "1.3137254901960782"
      ]
     },
     "execution_count": 18,
     "metadata": {},
     "output_type": "execute_result"
    }
   ],
   "source": [
    "def apply_filter(image, filt, center, activation=None, bias=0):\n",
    "    if not activation:\n",
    "        # If no activation is provided, just use the linear / identity function\n",
    "        activation = lambda x: x\n",
    "    image_section = image[center[0]-1:center[0]+2, center[1]-1:center[1]+2]\n",
    "    convolved = np.sum(image_section * filt) + bias\n",
    "    return activation(convolved)\n",
    "\n",
    "apply_filter(sample, filt, (15, 15), activation=ReLU)"
   ]
  },
  {
   "cell_type": "code",
   "execution_count": 19,
   "metadata": {
    "ExecuteTime": {
     "end_time": "2018-06-08T19:57:32.133143Z",
     "start_time": "2018-06-08T19:57:32.117860Z"
    }
   },
   "outputs": [],
   "source": [
    "# That should be good enough for now. Here is a dictionary of filters you can \n",
    "# plug and play with:\n",
    "filters = {\n",
    "    'random':np.random.randn(3,3),\n",
    "    'edge detection':np.array([[-1,-1,-1],[-1,8,-1],[-1,-1,-1]]),\n",
    "    'horizontal':np.array([[1,1,1],[0,0,0],[-1,-1,-1]]),\n",
    "    'vertical':np.array([[1,1,1],[0,0,0],[-1,-1,-1]]).T,\n",
    "    'sharpen':np.array([[0,-1,0],[-1,5,-1],[0,-1,0]]),\n",
    "}\n",
    "\n",
    "# You may find more here: http://setosa.io/ev/image-kernels/"
   ]
  },
  {
   "cell_type": "code",
   "execution_count": 20,
   "metadata": {
    "ExecuteTime": {
     "end_time": "2018-06-08T19:57:33.438315Z",
     "start_time": "2018-06-08T19:57:33.141034Z"
    }
   },
   "outputs": [],
   "source": [
    "def show_images(filt=np.random.randn(3,3),\n",
    "                i=2, image=None, bias=0, activation=ReLU): \n",
    "    '''Function to display an image and its convolved versions, with and without\n",
    "    an activation function. A 28 x 28 image along the lines of the MNIST data may\n",
    "    be passed to the image parameter. Otherwise an index from the MNIST training\n",
    "    data is used'''\n",
    "    \n",
    "    if type(i) == int:\n",
    "        image = train_images[i]\n",
    "    \n",
    "    ####\n",
    "    \n",
    "    convolved_a = np.zeros((26, 26))\n",
    "\n",
    "    for row_pixel in range(1,27):\n",
    "        for col_pixel in range(1,27):\n",
    "            convolved_a[row_pixel - 1,\n",
    "                        col_pixel -1] = apply_filter(image, filt,\n",
    "                                                             (row_pixel,\n",
    "                                                              col_pixel),\n",
    "                                                             activation=activation,\n",
    "                                                              bias=bias)\n",
    "    #####\n",
    "\n",
    "    convolved_na = np.zeros((26, 26))\n",
    "\n",
    "    for row_pixel in range(1,27):\n",
    "        for col_pixel in range(1,27):\n",
    "            convolved_na[row_pixel - 1,\n",
    "                         col_pixel - 1] = apply_filter(image, filt,\n",
    "                                                              (row_pixel, col_pixel),\n",
    "                                                              bias=bias)\n",
    "\n",
    "    #####\n",
    "    # Here are some pooling layers, added for funsies. I'm just splitting the\n",
    "    # convolved images into 2 x 2 squares and taking the max value in each square.\n",
    "    \n",
    "    pooled_image_a = np.zeros((13, 13))\n",
    "    for row_pixel in range(0, 26, 2):\n",
    "        for col_pixel in range(0, 26, 2):\n",
    "            pooled_image_a[int(row_pixel/2),\n",
    "                        int(col_pixel/2)] = np.amax(convolved_a[row_pixel:row_pixel+2 ,\n",
    "                      col_pixel:col_pixel+2])\n",
    "    ####\n",
    "    \n",
    "    pooled_image_na = np.zeros((13, 13))\n",
    "    for row_pixel in range(0, 26, 2):\n",
    "        for col_pixel in range(0, 26, 2):\n",
    "            pooled_image_na[int(row_pixel/2),\n",
    "                        int(col_pixel/2)] = np.amax(convolved_na[row_pixel:row_pixel+2 ,\n",
    "                      col_pixel:col_pixel+2])\n",
    "    \n",
    "    #####\n",
    "      \n",
    "\n",
    "    fig, ax = plt.subplots(ncols=5, figsize=(15,15))\n",
    "    \n",
    "    ax[0].imshow(X=image, cmap=plt.cm.gray_r, interpolation = \"nearest\")\n",
    "    ax[0].set_xlabel('Image No. {}'.format(i + 1))\n",
    "\n",
    "    ax[1].imshow(X=convolved_a, cmap=plt.cm.gray_r, interpolation = \"nearest\")\n",
    "    ax[1].set_xlabel('W/ Activation')\n",
    "\n",
    "    ax[2].imshow(X=convolved_na, cmap=plt.cm.gray_r, interpolation = \"nearest\")\n",
    "    ax[2].set_xlabel('W/o Activation')\n",
    "    \n",
    "    ax[3].imshow(X=pooled_image_a, cmap=plt.cm.gray_r, interpolation = \"nearest\")\n",
    "    ax[3].set_xlabel('Pooled w/ Act')\n",
    "    ax[4].imshow(X=pooled_image_na, cmap=plt.cm.gray_r, interpolation = \"nearest\")\n",
    "    ax[4].set_xlabel('Pooled w/o Act')\n",
    "    plt.show();"
   ]
  },
  {
   "cell_type": "code",
   "execution_count": 21,
   "metadata": {
    "ExecuteTime": {
     "end_time": "2018-06-08T19:57:35.364964Z",
     "start_time": "2018-06-08T19:57:34.548494Z"
    }
   },
   "outputs": [
    {
     "data": {
      "image/png": "[encoded data removed]",
      "text/plain": [
       "<matplotlib.figure.Figure at 0x12d9fd850f0>"
      ]
     },
     "metadata": {},
     "output_type": "display_data"
    }
   ],
   "source": [
    "convolved = show_images(filt=filters['edge detection'],\n",
    "                        i=4, bias=-2)"
   ]
  },
  {
   "cell_type": "code",
   "execution_count": 22,
   "metadata": {
    "ExecuteTime": {
     "end_time": "2018-06-08T19:57:36.988348Z",
     "start_time": "2018-06-08T19:57:36.189360Z"
    }
   },
   "outputs": [
    {
     "data": {
      "image/png": "[encoded data removed]",
      "text/plain": [
       "<matplotlib.figure.Figure at 0x12da115b0b8>"
      ]
     },
     "metadata": {},
     "output_type": "display_data"
    }
   ],
   "source": [
    "convolved = show_images(filt=filters['horizontal'],\n",
    "                        i=4, bias=-1)"
   ]
  }
 ],
 "metadata": {
  "kernelspec": {
   "display_name": "Python [conda env:tensorflow]",
   "language": "python",
   "name": "conda-env-tensorflow-py"
  },
  "language_info": {
   "codemirror_mode": {
    "name": "ipython",
    "version": 3
   },
   "file_extension": ".py",
   "mimetype": "text/x-python",
   "name": "python",
   "nbconvert_exporter": "python",
   "pygments_lexer": "ipython3",
   "version": "3.6.4"
  },
  "toc": {
   "nav_menu": {},
   "number_sections": true,
   "sideBar": true,
   "skip_h1_title": false,
   "title_cell": "Table of Contents",
   "title_sidebar": "Contents",
   "toc_cell": false,
   "toc_position": {},
   "toc_section_display": true,
   "toc_window_display": false
  },
  "varInspector": {
   "cols": {
    "lenName": 16,
    "lenType": 16,
    "lenVar": 40
   },
   "kernels_config": {
    "python": {
     "delete_cmd_postfix": "",
     "delete_cmd_prefix": "del ",
     "library": "var_list.py",
     "varRefreshCmd": "print(var_dic_list())"
    },
    "r": {
     "delete_cmd_postfix": ") ",
     "delete_cmd_prefix": "rm(",
     "library": "var_list.r",
     "varRefreshCmd": "cat(var_dic_list()) "
    }
   },
   "types_to_exclude": [
    "module",
    "function",
    "builtin_function_or_method",
    "instance",
    "_Feature"
   ],
   "window_display": false
  }
 },
 "nbformat": 4,
 "nbformat_minor": 2
}
